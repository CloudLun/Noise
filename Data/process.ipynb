{
 "cells": [
  {
   "cell_type": "code",
   "execution_count": 2,
   "id": "348dfc8a",
   "metadata": {},
   "outputs": [],
   "source": [
    "import pandas as pd"
   ]
  },
  {
   "cell_type": "code",
   "execution_count": 3,
   "id": "51072d62",
   "metadata": {},
   "outputs": [
    {
     "name": "stderr",
     "output_type": "stream",
     "text": [
      "/var/folders/4s/flrct1tj221clstzl2528_hc0000gn/T/ipykernel_26661/490841662.py:1: DtypeWarning: Columns (4) have mixed types. Specify dtype option on import or set low_memory=False.\n",
      "  noise = pd.read_csv('./noiseCensusTract.csv')\n"
     ]
    }
   ],
   "source": [
    "noise = pd.read_csv('./noiseCensusTract.csv')\n",
    "noise.drop(noise.filter(regex=\"Unname\"),axis=1, inplace=True)\n",
    "noise['created_date'] = pd.to_datetime(noise['created_date'])\n",
    "noise['hour'] = noise['created_date'].dt.strftime('%H')"
   ]
  },
  {
   "cell_type": "code",
   "execution_count": 4,
   "id": "8f41146d",
   "metadata": {},
   "outputs": [
    {
     "data": {
      "text/plain": [
       "Index(['unique_key', 'created_date', 'complaint_type', 'location_type',\n",
       "       'latitude', 'longitude', 'incident_zip', 'incident_address', 'date',\n",
       "       'month', 'day', 'time', 'geometry', 'BoroName', 'CT2020', 'BoroCT2020',\n",
       "       'NTAName', 'NTA2020', 'CDTA2020', 'CDTANAME', 'GEOID', 'Shape_Leng',\n",
       "       'Shape_Area', 'hour'],\n",
       "      dtype='object')"
      ]
     },
     "execution_count": 4,
     "metadata": {},
     "output_type": "execute_result"
    }
   ],
   "source": [
    "noise.columns"
   ]
  },
  {
   "cell_type": "code",
   "execution_count": 4,
   "id": "faf03451",
   "metadata": {},
   "outputs": [
    {
     "data": {
      "text/html": [
       "<div>\n",
       "<style scoped>\n",
       "    .dataframe tbody tr th:only-of-type {\n",
       "        vertical-align: middle;\n",
       "    }\n",
       "\n",
       "    .dataframe tbody tr th {\n",
       "        vertical-align: top;\n",
       "    }\n",
       "\n",
       "    .dataframe thead th {\n",
       "        text-align: right;\n",
       "    }\n",
       "</style>\n",
       "<table border=\"1\" class=\"dataframe\">\n",
       "  <thead>\n",
       "    <tr style=\"text-align: right;\">\n",
       "      <th></th>\n",
       "      <th>unique_key</th>\n",
       "      <th>complaint_type</th>\n",
       "      <th>month</th>\n",
       "      <th>hour</th>\n",
       "      <th>BoroName</th>\n",
       "    </tr>\n",
       "  </thead>\n",
       "  <tbody>\n",
       "    <tr>\n",
       "      <th>0</th>\n",
       "      <td>48545187</td>\n",
       "      <td>Construction Before/After Hours</td>\n",
       "      <td>1</td>\n",
       "      <td>00</td>\n",
       "      <td>Manhattan</td>\n",
       "    </tr>\n",
       "    <tr>\n",
       "      <th>1</th>\n",
       "      <td>48545171</td>\n",
       "      <td>Alarms</td>\n",
       "      <td>1</td>\n",
       "      <td>01</td>\n",
       "      <td>Manhattan</td>\n",
       "    </tr>\n",
       "    <tr>\n",
       "      <th>2</th>\n",
       "      <td>48548407</td>\n",
       "      <td>air condition/ventilation equipment</td>\n",
       "      <td>1</td>\n",
       "      <td>01</td>\n",
       "      <td>Manhattan</td>\n",
       "    </tr>\n",
       "  </tbody>\n",
       "</table>\n",
       "</div>"
      ],
      "text/plain": [
       "   unique_key                       complaint_type  month hour   BoroName\n",
       "0    48545187      Construction Before/After Hours      1   00  Manhattan\n",
       "1    48545171                               Alarms      1   01  Manhattan\n",
       "2    48548407  air condition/ventilation equipment      1   01  Manhattan"
      ]
     },
     "execution_count": 4,
     "metadata": {},
     "output_type": "execute_result"
    }
   ],
   "source": [
    "noise_type = noise[['unique_key', 'complaint_type','month','hour','BoroName']]\n",
    "noise_type.head(3)"
   ]
  },
  {
   "cell_type": "code",
   "execution_count": 5,
   "id": "403f8182",
   "metadata": {},
   "outputs": [
    {
     "data": {
      "text/html": [
       "<div>\n",
       "<style scoped>\n",
       "    .dataframe tbody tr th:only-of-type {\n",
       "        vertical-align: middle;\n",
       "    }\n",
       "\n",
       "    .dataframe tbody tr th {\n",
       "        vertical-align: top;\n",
       "    }\n",
       "\n",
       "    .dataframe thead th {\n",
       "        text-align: right;\n",
       "    }\n",
       "</style>\n",
       "<table border=\"1\" class=\"dataframe\">\n",
       "  <thead>\n",
       "    <tr style=\"text-align: right;\">\n",
       "      <th></th>\n",
       "      <th>complaint_type</th>\n",
       "      <th>noise_count</th>\n",
       "    </tr>\n",
       "  </thead>\n",
       "  <tbody>\n",
       "    <tr>\n",
       "      <th>9</th>\n",
       "      <td>Loud Music/Party</td>\n",
       "      <td>457970</td>\n",
       "    </tr>\n",
       "    <tr>\n",
       "      <th>1</th>\n",
       "      <td>Banging/Pounding</td>\n",
       "      <td>91071</td>\n",
       "    </tr>\n",
       "    <tr>\n",
       "      <th>4</th>\n",
       "      <td>Car/Truck Music</td>\n",
       "      <td>57047</td>\n",
       "    </tr>\n",
       "    <tr>\n",
       "      <th>10</th>\n",
       "      <td>Loud Talking</td>\n",
       "      <td>50595</td>\n",
       "    </tr>\n",
       "    <tr>\n",
       "      <th>3</th>\n",
       "      <td>Car/Truck Horn</td>\n",
       "      <td>18457</td>\n",
       "    </tr>\n",
       "    <tr>\n",
       "      <th>5</th>\n",
       "      <td>Construction Before/After Hours</td>\n",
       "      <td>16137</td>\n",
       "    </tr>\n",
       "    <tr>\n",
       "      <th>16</th>\n",
       "      <td>Vehicle</td>\n",
       "      <td>13645</td>\n",
       "    </tr>\n",
       "    <tr>\n",
       "      <th>6</th>\n",
       "      <td>Construction Equipment</td>\n",
       "      <td>6678</td>\n",
       "    </tr>\n",
       "    <tr>\n",
       "      <th>2</th>\n",
       "      <td>Barking Dog</td>\n",
       "      <td>6111</td>\n",
       "    </tr>\n",
       "    <tr>\n",
       "      <th>0</th>\n",
       "      <td>Alarms</td>\n",
       "      <td>4811</td>\n",
       "    </tr>\n",
       "    <tr>\n",
       "      <th>17</th>\n",
       "      <td>air condition/ventilation equipment</td>\n",
       "      <td>4758</td>\n",
       "    </tr>\n",
       "    <tr>\n",
       "      <th>11</th>\n",
       "      <td>Loud Television</td>\n",
       "      <td>4571</td>\n",
       "    </tr>\n",
       "    <tr>\n",
       "      <th>8</th>\n",
       "      <td>Jack Hammering</td>\n",
       "      <td>2193</td>\n",
       "    </tr>\n",
       "    <tr>\n",
       "      <th>7</th>\n",
       "      <td>Ice Cream Truck</td>\n",
       "      <td>1315</td>\n",
       "    </tr>\n",
       "    <tr>\n",
       "      <th>18</th>\n",
       "      <td>lawn care equipment</td>\n",
       "      <td>924</td>\n",
       "    </tr>\n",
       "    <tr>\n",
       "      <th>15</th>\n",
       "      <td>Private Carting Noise</td>\n",
       "      <td>844</td>\n",
       "    </tr>\n",
       "    <tr>\n",
       "      <th>13</th>\n",
       "      <td>Other Animals</td>\n",
       "      <td>268</td>\n",
       "    </tr>\n",
       "    <tr>\n",
       "      <th>12</th>\n",
       "      <td>Manufacturing Noise</td>\n",
       "      <td>148</td>\n",
       "    </tr>\n",
       "    <tr>\n",
       "      <th>14</th>\n",
       "      <td>Others</td>\n",
       "      <td>5</td>\n",
       "    </tr>\n",
       "  </tbody>\n",
       "</table>\n",
       "</div>"
      ],
      "text/plain": [
       "                         complaint_type  noise_count\n",
       "9                      Loud Music/Party       457970\n",
       "1                      Banging/Pounding        91071\n",
       "4                       Car/Truck Music        57047\n",
       "10                         Loud Talking        50595\n",
       "3                        Car/Truck Horn        18457\n",
       "5       Construction Before/After Hours        16137\n",
       "16                              Vehicle        13645\n",
       "6                Construction Equipment         6678\n",
       "2                           Barking Dog         6111\n",
       "0                                Alarms         4811\n",
       "17  air condition/ventilation equipment         4758\n",
       "11                      Loud Television         4571\n",
       "8                        Jack Hammering         2193\n",
       "7                       Ice Cream Truck         1315\n",
       "18                  lawn care equipment          924\n",
       "15                Private Carting Noise          844\n",
       "13                        Other Animals          268\n",
       "12                  Manufacturing Noise          148\n",
       "14                               Others            5"
      ]
     },
     "execution_count": 5,
     "metadata": {},
     "output_type": "execute_result"
    }
   ],
   "source": [
    "noise_type_sorted = noise_type[['complaint_type','unique_key']].groupby(['complaint_type']).count().reset_index()\n",
    "noise_type_sorted = noise_type_sorted.rename(columns = {'unique_key': 'noise_count'})\n",
    "noise_type_sorted =  noise_type_sorted.sort_values(by = 'noise_count', ascending=False)\n",
    "noise_type_sorted"
   ]
  },
  {
   "cell_type": "code",
   "execution_count": 6,
   "id": "07859045",
   "metadata": {},
   "outputs": [],
   "source": [
    "noise_type_top_list = ['Loud Music/Party', 'Banging/Pounding', 'Car/Truck Music','Loud Talking']\n",
    "noise_type = noise_type[noise_type['complaint_type'].isin(noise_type_top_list)]"
   ]
  },
  {
   "cell_type": "code",
   "execution_count": 7,
   "id": "fd8cf82d",
   "metadata": {},
   "outputs": [],
   "source": [
    "noise_type_manhattan = noise_type[noise_type['BoroName'] == 'Manhattan']\n",
    "noise_type_brooklyn = noise_type[noise_type['BoroName'] == 'Brooklyn']\n",
    "noise_type_queens = noise_type[noise_type['BoroName'] == 'Queens']\n",
    "noise_type_bronx = noise_type[noise_type['BoroName'] == 'Bronx']"
   ]
  },
  {
   "cell_type": "code",
   "execution_count": 38,
   "id": "d7312ce8",
   "metadata": {},
   "outputs": [
    {
     "data": {
      "text/html": [
       "<div>\n",
       "<style scoped>\n",
       "    .dataframe tbody tr th:only-of-type {\n",
       "        vertical-align: middle;\n",
       "    }\n",
       "\n",
       "    .dataframe tbody tr th {\n",
       "        vertical-align: top;\n",
       "    }\n",
       "\n",
       "    .dataframe thead th {\n",
       "        text-align: right;\n",
       "    }\n",
       "</style>\n",
       "<table border=\"1\" class=\"dataframe\">\n",
       "  <thead>\n",
       "    <tr style=\"text-align: right;\">\n",
       "      <th></th>\n",
       "      <th>unique_key</th>\n",
       "      <th>complaint_type</th>\n",
       "      <th>month</th>\n",
       "      <th>hour</th>\n",
       "      <th>BoroName</th>\n",
       "    </tr>\n",
       "  </thead>\n",
       "  <tbody>\n",
       "    <tr>\n",
       "      <th>44451</th>\n",
       "      <td>48539475</td>\n",
       "      <td>Loud Talking</td>\n",
       "      <td>1</td>\n",
       "      <td>00</td>\n",
       "      <td>Manhattan</td>\n",
       "    </tr>\n",
       "    <tr>\n",
       "      <th>44452</th>\n",
       "      <td>48542541</td>\n",
       "      <td>Loud Music/Party</td>\n",
       "      <td>1</td>\n",
       "      <td>00</td>\n",
       "      <td>Manhattan</td>\n",
       "    </tr>\n",
       "    <tr>\n",
       "      <th>44459</th>\n",
       "      <td>48546755</td>\n",
       "      <td>Loud Music/Party</td>\n",
       "      <td>1</td>\n",
       "      <td>02</td>\n",
       "      <td>Manhattan</td>\n",
       "    </tr>\n",
       "  </tbody>\n",
       "</table>\n",
       "</div>"
      ],
      "text/plain": [
       "       unique_key    complaint_type  month hour   BoroName\n",
       "44451    48539475      Loud Talking      1   00  Manhattan\n",
       "44452    48542541  Loud Music/Party      1   00  Manhattan\n",
       "44459    48546755  Loud Music/Party      1   02  Manhattan"
      ]
     },
     "execution_count": 38,
     "metadata": {},
     "output_type": "execute_result"
    }
   ],
   "source": [
    "noise_type_manhattan.head(3)"
   ]
  },
  {
   "cell_type": "code",
   "execution_count": 8,
   "id": "8d2e93bd",
   "metadata": {},
   "outputs": [],
   "source": [
    "noise_type_count_manhattan = noise_type_manhattan[['complaint_type', 'month', 'hour', 'unique_key']].groupby(['complaint_type', 'month', 'hour']).count().reset_index()\n",
    "noise_type_count_manhattan = noise_type_count_manhattan.rename(columns = {'unique_key': 'noise_count'})\n",
    "noise_type_count_manhattan.to_csv(\"../Data/type/top_noise_type_manhattan.csv\")"
   ]
  },
  {
   "cell_type": "code",
   "execution_count": 9,
   "id": "2a194137",
   "metadata": {},
   "outputs": [],
   "source": [
    "noise_type_count_brooklyn = noise_type_brooklyn[['complaint_type', 'month', 'hour', 'unique_key']].groupby(['complaint_type', 'month', 'hour']).count().reset_index()\n",
    "noise_type_count_brooklyn = noise_type_count_brooklyn.rename(columns = {'unique_key': 'noise_count'})\n",
    "noise_type_count_brooklyn.to_csv(\"../Data/type/top_noise_type_brooklyn.csv\")"
   ]
  },
  {
   "cell_type": "code",
   "execution_count": 10,
   "id": "4f68ba2b",
   "metadata": {},
   "outputs": [],
   "source": [
    "noise_type_count_queens = noise_type_queens[['complaint_type', 'month', 'hour', 'unique_key']].groupby(['complaint_type', 'month', 'hour']).count().reset_index()\n",
    "noise_type_count_queens = noise_type_count_queens.rename(columns = {'unique_key': 'noise_count'})\n",
    "noise_type_count_queens.to_csv(\"../Data/type/top_noise_type_queens.csv\")"
   ]
  },
  {
   "cell_type": "code",
   "execution_count": 11,
   "id": "82c82953",
   "metadata": {},
   "outputs": [],
   "source": [
    "noise_type_count_bronx = noise_type_bronx[['complaint_type', 'month', 'hour', 'unique_key']].groupby(['complaint_type', 'month', 'hour']).count().reset_index()\n",
    "noise_type_count_bronx = noise_type_count_bronx.rename(columns = {'unique_key': 'noise_count'})\n",
    "noise_type_count_bronx.to_csv(\"../Data/type/top_noise_type_bronx.csv\")"
   ]
  }
 ],
 "metadata": {
  "kernelspec": {
   "display_name": "base",
   "language": "python",
   "name": "python3"
  },
  "language_info": {
   "codemirror_mode": {
    "name": "ipython",
    "version": 3
   },
   "file_extension": ".py",
   "mimetype": "text/x-python",
   "name": "python",
   "nbconvert_exporter": "python",
   "pygments_lexer": "ipython3",
   "version": "3.9.13"
  },
  "vscode": {
   "interpreter": {
    "hash": "b115365b206247d590986bf5058be5ed4c1bedd6eb6a07572bd870c2a12c95d7"
   }
  }
 },
 "nbformat": 4,
 "nbformat_minor": 5
}
